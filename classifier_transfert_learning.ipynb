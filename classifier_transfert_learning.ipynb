{
  "cells": [
    {
      "cell_type": "markdown",
      "metadata": {
        "id": "view-in-github",
        "colab_type": "text"
      },
      "source": [
        "<a href=\"https://colab.research.google.com/github/bastian110/LiverTumor_SegmentationAndClassification/blob/main/classifier_transfert_learning.ipynb\" target=\"_parent\"><img src=\"https://colab.research.google.com/assets/colab-badge.svg\" alt=\"Open In Colab\"/></a>"
      ]
    },
    {
      "cell_type": "code",
      "execution_count": 20,
      "metadata": {
        "id": "uUlymTLvx0wc"
      },
      "outputs": [],
      "source": [
        "import matplotlib.pyplot as plt\n",
        "import numpy as np\n",
        "from sklearn.model_selection import KFold\n",
        "import random\n",
        "\n",
        "import torch\n",
        "import torch.nn as nn\n",
        "import torch.optim as optim\n",
        "from torch.optim import lr_scheduler\n",
        "\n",
        "from torch.utils.data import Dataset, DataLoader,TensorDataset,random_split,SubsetRandomSampler, ConcatDataset\n",
        "from torch.nn import functional as F\n",
        "import torchvision\n",
        "from torchvision import datasets,transforms, models\n",
        "import torchvision.transforms as transforms\n",
        "\n",
        "import os\n",
        "import time\n",
        "import copy\n",
        "import csv\n",
        "\n",
        "import pandas as pd\n"
      ]
    },
    {
      "cell_type": "code",
      "source": [
        "from google.colab import drive\n",
        "drive.mount('/content/drive')"
      ],
      "metadata": {
        "colab": {
          "base_uri": "https://localhost:8080/"
        },
        "id": "UfmnQ5AWx6xx",
        "outputId": "a74a8dfb-7cad-44bf-b8a7-d6d9ca7cee69"
      },
      "execution_count": 2,
      "outputs": [
        {
          "output_type": "stream",
          "name": "stdout",
          "text": [
            "Mounted at /content/drive\n"
          ]
        }
      ]
    },
    {
      "cell_type": "code",
      "source": [
        "!unzip /content/drive/MyDrive/tp_DL/datatraintest.zip"
      ],
      "metadata": {
        "id": "Z7ltyvdgyM9z"
      },
      "execution_count": null,
      "outputs": []
    },
    {
      "cell_type": "code",
      "execution_count": 4,
      "metadata": {
        "id": "Pq-brERNx0wi"
      },
      "outputs": [],
      "source": [
        "# Data augmentation and normalization for training\n",
        "# Just normalization for validation (test)\n",
        "data_transforms = {\n",
        "    'train': transforms.Compose([\n",
        "        transforms.RandomResizedCrop(224),\n",
        "        transforms.RandomHorizontalFlip(),\n",
        "        transforms.ToTensor(),\n",
        "        transforms.Normalize([0.485, 0.456, 0.406], [0.229, 0.224, 0.225])\n",
        "    ]),\n",
        "    'test': transforms.Compose([\n",
        "        transforms.Resize(256),\n",
        "        transforms.CenterCrop(224),\n",
        "        transforms.ToTensor(),\n",
        "        transforms.Normalize([0.485, 0.456, 0.406], [0.229, 0.224, 0.225])\n",
        "    ]),\n",
        "}\n",
        "\n",
        "data_dir = \"/content/data_png\"\n",
        "image_datasets = {x: datasets.ImageFolder(os.path.join(data_dir, x),\n",
        "                                          data_transforms[x])\n",
        "                  for x in ['train', 'test']}\n",
        "\n",
        "dataloaders = {x: torch.utils.data.DataLoader(image_datasets[x], batch_size=30,\n",
        "                                             shuffle=True, num_workers=2)\n",
        "              for x in ['train', 'test']}\n",
        "              \n",
        "dataset_sizes = {x: len(image_datasets[x]) for x in ['train', 'test']}\n",
        "class_names = image_datasets['train'].classes\n",
        "\n",
        "device = torch.device(\"cuda:0\" if torch.cuda.is_available() else \"cpu\")"
      ]
    },
    {
      "cell_type": "code",
      "execution_count": 5,
      "metadata": {
        "colab": {
          "base_uri": "https://localhost:8080/",
          "height": 176
        },
        "id": "Bi7DDXefx0wj",
        "outputId": "bcdecb9e-ca36-46c7-f1eb-0e8d991e8785"
      },
      "outputs": [
        {
          "output_type": "display_data",
          "data": {
            "image/png": "[encoded data removed]",
            "text/plain": [
              "<Figure size 432x288 with 1 Axes>"
            ]
          },
          "metadata": {
            "needs_background": "light"
          }
        }
      ],
      "source": [
        "def imshow(inp, title=None):\n",
        "    \"\"\"Imshow for Tensor.\"\"\"\n",
        "    inp = inp.numpy().transpose((1, 2, 0))\n",
        "    mean = np.array([0.485, 0.456, 0.406])\n",
        "    std = np.array([0.229, 0.224, 0.225])\n",
        "    inp = std * inp + mean\n",
        "    inp = np.clip(inp, 0, 1)\n",
        "    plt.imshow(inp)\n",
        "    if title is not None:\n",
        "        plt.title(title)\n",
        "    plt.pause(0.001)  # pause a bit so that plots are updated\n",
        "\n",
        "\n",
        "# Get a batch of training data\n",
        "inputs, classes = next(iter(dataloaders['train']))\n",
        "\n",
        "# Make a grid from batch\n",
        "out = torchvision.utils.make_grid(inputs)\n",
        "\n",
        "imshow(out, title=[class_names[x] for x in classes])"
      ]
    },
    {
      "cell_type": "code",
      "source": [
        "!pip install torchmetrics"
      ],
      "metadata": {
        "colab": {
          "base_uri": "https://localhost:8080/"
        },
        "id": "ySYAE4cQ9JUy",
        "outputId": "51350df2-e968-4929-e7fe-e325dadf7264"
      },
      "execution_count": 7,
      "outputs": [
        {
          "output_type": "stream",
          "name": "stdout",
          "text": [
            "Collecting torchmetrics\n",
            "  Downloading torchmetrics-0.7.2-py3-none-any.whl (397 kB)\n",
            "\u001b[?25l\r\u001b[K     |▉                               | 10 kB 20.9 MB/s eta 0:00:01\r\u001b[K     |█▋                              | 20 kB 27.8 MB/s eta 0:00:01\r\u001b[K     |██▌                             | 30 kB 14.4 MB/s eta 0:00:01\r\u001b[K     |███▎                            | 40 kB 11.3 MB/s eta 0:00:01\r\u001b[K     |████▏                           | 51 kB 6.2 MB/s eta 0:00:01\r\u001b[K     |█████                           | 61 kB 7.2 MB/s eta 0:00:01\r\u001b[K     |█████▊                          | 71 kB 7.2 MB/s eta 0:00:01\r\u001b[K     |██████▋                         | 81 kB 6.2 MB/s eta 0:00:01\r\u001b[K     |███████▍                        | 92 kB 6.9 MB/s eta 0:00:01\r\u001b[K     |████████▎                       | 102 kB 7.6 MB/s eta 0:00:01\r\u001b[K     |█████████                       | 112 kB 7.6 MB/s eta 0:00:01\r\u001b[K     |██████████                      | 122 kB 7.6 MB/s eta 0:00:01\r\u001b[K     |██████████▊                     | 133 kB 7.6 MB/s eta 0:00:01\r\u001b[K     |███████████▌                    | 143 kB 7.6 MB/s eta 0:00:01\r\u001b[K     |████████████▍                   | 153 kB 7.6 MB/s eta 0:00:01\r\u001b[K     |█████████████▏                  | 163 kB 7.6 MB/s eta 0:00:01\r\u001b[K     |██████████████                  | 174 kB 7.6 MB/s eta 0:00:01\r\u001b[K     |██████████████▉                 | 184 kB 7.6 MB/s eta 0:00:01\r\u001b[K     |███████████████▊                | 194 kB 7.6 MB/s eta 0:00:01\r\u001b[K     |████████████████▌               | 204 kB 7.6 MB/s eta 0:00:01\r\u001b[K     |█████████████████▎              | 215 kB 7.6 MB/s eta 0:00:01\r\u001b[K     |██████████████████▏             | 225 kB 7.6 MB/s eta 0:00:01\r\u001b[K     |███████████████████             | 235 kB 7.6 MB/s eta 0:00:01\r\u001b[K     |███████████████████▉            | 245 kB 7.6 MB/s eta 0:00:01\r\u001b[K     |████████████████████▋           | 256 kB 7.6 MB/s eta 0:00:01\r\u001b[K     |█████████████████████▌          | 266 kB 7.6 MB/s eta 0:00:01\r\u001b[K     |██████████████████████▎         | 276 kB 7.6 MB/s eta 0:00:01\r\u001b[K     |███████████████████████         | 286 kB 7.6 MB/s eta 0:00:01\r\u001b[K     |████████████████████████        | 296 kB 7.6 MB/s eta 0:00:01\r\u001b[K     |████████████████████████▊       | 307 kB 7.6 MB/s eta 0:00:01\r\u001b[K     |█████████████████████████▋      | 317 kB 7.6 MB/s eta 0:00:01\r\u001b[K     |██████████████████████████▍     | 327 kB 7.6 MB/s eta 0:00:01\r\u001b[K     |███████████████████████████▎    | 337 kB 7.6 MB/s eta 0:00:01\r\u001b[K     |████████████████████████████    | 348 kB 7.6 MB/s eta 0:00:01\r\u001b[K     |████████████████████████████▉   | 358 kB 7.6 MB/s eta 0:00:01\r\u001b[K     |█████████████████████████████▊  | 368 kB 7.6 MB/s eta 0:00:01\r\u001b[K     |██████████████████████████████▌ | 378 kB 7.6 MB/s eta 0:00:01\r\u001b[K     |███████████████████████████████▍| 389 kB 7.6 MB/s eta 0:00:01\r\u001b[K     |████████████████████████████████| 397 kB 7.6 MB/s \n",
            "\u001b[?25hRequirement already satisfied: numpy>=1.17.2 in /usr/local/lib/python3.7/dist-packages (from torchmetrics) (1.21.5)\n",
            "Requirement already satisfied: packaging in /usr/local/lib/python3.7/dist-packages (from torchmetrics) (21.3)\n",
            "Collecting pyDeprecate==0.3.*\n",
            "  Downloading pyDeprecate-0.3.2-py3-none-any.whl (10 kB)\n",
            "Requirement already satisfied: torch>=1.3.1 in /usr/local/lib/python3.7/dist-packages (from torchmetrics) (1.10.0+cu111)\n",
            "Requirement already satisfied: typing-extensions in /usr/local/lib/python3.7/dist-packages (from torch>=1.3.1->torchmetrics) (3.10.0.2)\n",
            "Requirement already satisfied: pyparsing!=3.0.5,>=2.0.2 in /usr/local/lib/python3.7/dist-packages (from packaging->torchmetrics) (3.0.7)\n",
            "Installing collected packages: pyDeprecate, torchmetrics\n",
            "Successfully installed pyDeprecate-0.3.2 torchmetrics-0.7.2\n"
          ]
        }
      ]
    },
    {
      "cell_type": "code",
      "source": [
        "import csv\n",
        "with open('innovators.csv', 'w', newline='') as file:\n",
        "    writer = csv.writer(file)\n",
        "    writer.writerow([\"SN\", \"Name\", \"Contribution\"])\n",
        "    writer.writerow([1, \"Linus Torvalds\", \"Linux Kernel\"])\n",
        "    writer.writerow([2, \"Tim Berners-Lee\", \"World Wide Web\"])\n",
        "    writer.writerow([3, \"Guido van Rossum\", \"Python Programming\"])"
      ],
      "metadata": {
        "id": "Se_kkdbxPO2C"
      },
      "execution_count": null,
      "outputs": []
    },
    {
      "cell_type": "code",
      "execution_count": 53,
      "metadata": {
        "id": "pq-0Bvrvx0wk"
      },
      "outputs": [],
      "source": [
        "from sklearn.metrics import classification_report, accuracy_score, confusion_matrix, precision_score, f1_score, recall_score\n",
        "\n",
        "# recall, f1-score,AUC \n",
        "def train_model(model, criterion, optimizer, scheduler, num_epochs=25):\n",
        "    since = time.time()\n",
        "\n",
        "    best_model_wts = copy.deepcopy(model.state_dict())\n",
        "    best_acc = 0.0\n",
        "    train_metric_log = [[\"phase\", \"epoch_loss\", \"epoch_acc\", \"precision\", \"f1_score\"]]\n",
        "    test_metric_log = [[\"phase\", \"epoch_loss\", \"epoch_acc\", \"precision\", \"f1_score\"]]\n",
        "\n",
        "    for epoch in range(num_epochs):\n",
        "        print('Epoch {}/{}'.format(epoch, num_epochs - 1))\n",
        "        print('-' * 10)\n",
        "\n",
        "        # Each epoch has a training and validation phase\n",
        "        for phase in ['train', 'test']:\n",
        "            if phase == 'train':\n",
        "                model.train()  # Set model to training mode\n",
        "            else:\n",
        "                model.eval()   # Set model to evaluate mode\n",
        "\n",
        "            running_loss = 0.0\n",
        "            running_corrects = 0\n",
        "            preds_cpu = []\n",
        "            labels_cpu =[]\n",
        "            epoch_loss = 0\n",
        "            epoch_acc = 0\n",
        "            f1_score = 0\n",
        "            precision = 0\n",
        "\n",
        "\n",
        "            # Iterate over data.\n",
        "            for inputs, labels in dataloaders[phase]:\n",
        "                inputs = inputs.to(device)\n",
        "                labels = labels.to(device)\n",
        "\n",
        "                # zero the parameter gradients\n",
        "                optimizer.zero_grad()\n",
        "\n",
        "                # forward\n",
        "                # track history if only in train\n",
        "                with torch.set_grad_enabled(phase == 'train'):\n",
        "                    outputs = model(inputs)\n",
        "                    _, preds = torch.max(outputs, 1)\n",
        "                    loss = criterion(outputs, labels)\n",
        "                   \n",
        "\n",
        "                    # backward + optimize only if in training phase\n",
        "                    if phase == 'train':\n",
        "                        loss.backward()\n",
        "                        optimizer.step()\n",
        "\n",
        "                # statistics\n",
        "                running_loss += loss.item() * inputs.size(0)\n",
        "                running_corrects += torch.sum(preds == labels.data)#number of correct predictions\n",
        "\n",
        "\n",
        "            if phase == 'train':\n",
        "                scheduler.step()\n",
        "            \n",
        "            preds = preds.cpu().detach().numpy()\n",
        "            labels = labels.cpu().detach().numpy()\n",
        "\n",
        "            preds_cpu.extend(preds)\n",
        "            labels_cpu.extend(labels)\n",
        "\n",
        "            epoch_loss = running_loss / dataset_sizes[phase]\n",
        "            epoch_acc = accuracy_score(preds_cpu, labels_cpu)\n",
        "            precision = precision_score(preds_cpu, labels_cpu)\n",
        "            recall = recall_score(preds_cpu, labels_cpu)\n",
        "            f1_score = 2 * (precision * recall) / (precision + recall)\n",
        "            #aoc_roc = auroc(preds_cpu, labels_cpu)\n",
        "\n",
        "            if phase == 'train':\n",
        "                train_metric_log.append([phase, epoch_loss, epoch_acc, precision, f1_score])\n",
        "                #print(\"train log:\",train_metric_log)\n",
        "                df = pd.DataFrame(train_metric_log)\n",
        "                df.to_csv('train_log.csv')\n",
        "\n",
        "            else:\n",
        "                test_metric_log.append([phase, epoch_loss, epoch_acc, precision, f1_score])\n",
        "                #print(\"test log:\",test_metric_log)\n",
        "                df2 = pd.DataFrame(test_metric_log)\n",
        "                df2.to_csv('test_log.csv')\n",
        "\n",
        "            print('{} Loss: {:.4f} Acc: {:.4f} Precision: {:.4f} f1_score: {:.4f} '.format(\n",
        "                phase, epoch_loss, epoch_acc, precision, f1_score))\n",
        "\n",
        "\n",
        "            # deep copy the model\n",
        "            if phase == 'test' and epoch_acc > best_acc:\n",
        "                best_acc = epoch_acc\n",
        "                best_model_wts = copy.deepcopy(model.state_dict())\n",
        "\n",
        "        print()\n",
        "\n",
        "    time_elapsed = time.time() - since\n",
        "    print('Training complete in {:.0f}m {:.0f}s'.format(\n",
        "        time_elapsed // 60, time_elapsed % 60))\n",
        "    print('Best val Acc: {:4f}'.format(best_acc))\n",
        "\n",
        "    # load best model weights\n",
        "    model.load_state_dict(best_model_wts)\n",
        "    return model"
      ]
    },
    {
      "cell_type": "code",
      "execution_count": 59,
      "metadata": {
        "id": "Qg2-ffZ5x0wl"
      },
      "outputs": [],
      "source": [
        "def visualize_model(model, num_images=10):\n",
        "    was_training = model.training\n",
        "    model.eval()\n",
        "    images_so_far = 0\n",
        "    fig = plt.figure()\n",
        "\n",
        "    with torch.no_grad():\n",
        "        for i, (inputs, labels) in enumerate(dataloaders['test']):\n",
        "            inputs = inputs.to(device)\n",
        "            labels = labels.to(device)\n",
        "\n",
        "            outputs = model(inputs)\n",
        "            _, preds = torch.max(outputs, 1)\n",
        "\n",
        "            for j in range(inputs.size()[0]):\n",
        "                images_so_far += 1\n",
        "                ax = plt.subplot(num_images//2, 2, images_so_far)\n",
        "                ax.axis('off')\n",
        "                ax.set_title('predicted: {}'.format(class_names[preds[j]]))\n",
        "                imshow(inputs.cpu().data[j])\n",
        "\n",
        "                if images_so_far == num_images:\n",
        "                    model.train(mode=was_training)\n",
        "                    return\n",
        "        model.train(mode=was_training)"
      ]
    },
    {
      "cell_type": "code",
      "execution_count": 27,
      "metadata": {
        "id": "v5S9jJ2sx0wl"
      },
      "outputs": [],
      "source": [
        "model_conv = torchvision.models.resnet18(pretrained=True)\n",
        "for param in model_conv.parameters():\n",
        "    param.requires_grad = False\n",
        "\n",
        "# Parameters of newly constructed modules have requires_grad=True by default\n",
        "num_ftrs = model_conv.fc.in_features\n",
        "model_conv.fc = nn.Linear(num_ftrs, 2)\n",
        "\n",
        "model_conv = model_conv.to(device)\n",
        "\n",
        "criterion = nn.CrossEntropyLoss()\n",
        "\n",
        "# Observe that only parameters of final layer are being optimized as\n",
        "# opposed to before.\n",
        "optimizer_conv = optim.SGD(model_conv.fc.parameters(), lr=0.001, momentum=0.9)\n",
        "\n",
        "# Decay LR by a factor of 0.1 every 7 epochs\n",
        "exp_lr_scheduler = lr_scheduler.StepLR(optimizer_conv, step_size=7, gamma=0.1)"
      ]
    },
    {
      "cell_type": "code",
      "execution_count": 54,
      "metadata": {
        "colab": {
          "base_uri": "https://localhost:8080/"
        },
        "id": "IUUhAqpJx0wm",
        "outputId": "7eda90cc-2454-4af2-9942-b1bd72cccf47"
      },
      "outputs": [
        {
          "output_type": "stream",
          "name": "stdout",
          "text": [
            "Epoch 0/3\n",
            "----------\n",
            "train Loss: 0.5507 Acc: 0.7692 Precision: 0.5714 f1_score: 0.7273 \n",
            "test Loss: 0.6224 Acc: 0.5769 Precision: 1.0000 f1_score: 0.7179 \n",
            "\n",
            "Epoch 1/3\n",
            "----------\n",
            "train Loss: 0.5480 Acc: 0.5385 Precision: 0.2500 f1_score: 0.4000 \n",
            "test Loss: 0.6104 Acc: 0.6154 Precision: 0.9375 f1_score: 0.7500 \n",
            "\n",
            "Epoch 2/3\n",
            "----------\n",
            "train Loss: 0.5504 Acc: 0.8462 Precision: 0.6667 f1_score: 0.8000 \n",
            "test Loss: 0.6205 Acc: 0.7308 Precision: 0.9500 f1_score: 0.8444 \n",
            "\n",
            "Epoch 3/3\n",
            "----------\n",
            "train Loss: 0.5581 Acc: 0.6923 Precision: 0.5000 f1_score: 0.6667 \n",
            "test Loss: 0.6225 Acc: 0.5385 Precision: 1.0000 f1_score: 0.7000 \n",
            "\n",
            "Training complete in 0m 32s\n",
            "Best val Acc: 0.730769\n"
          ]
        }
      ],
      "source": [
        "model_conv = train_model(model_conv, criterion, optimizer_conv,\n",
        "                         exp_lr_scheduler, num_epochs=4)\n"
      ]
    },
    {
      "cell_type": "code",
      "execution_count": 60,
      "metadata": {
        "id": "hgnPHPOhx0wq",
        "colab": {
          "base_uri": "https://localhost:8080/",
          "height": 707
        },
        "outputId": "04892184-04b7-4ff1-e304-a0358da2c4cf"
      },
      "outputs": [
        {
          "output_type": "display_data",
          "data": {
            "image/png": "[encoded data removed]",
            "text/plain": [
              "<Figure size 432x288 with 1 Axes>"
            ]
          },
          "metadata": {
            "needs_background": "light"
          }
        },
        {
          "output_type": "display_data",
          "data": {
            "image/png": "[encoded data removed]",
            "text/plain": [
              "<Figure size 432x288 with 1 Axes>"
            ]
          },
          "metadata": {
            "needs_background": "light"
          }
        },
        {
          "output_type": "display_data",
          "data": {
            "image/png": "[encoded data removed]",
            "text/plain": [
              "<Figure size 432x288 with 1 Axes>"
            ]
          },
          "metadata": {
            "needs_background": "light"
          }
        },
        {
          "output_type": "display_data",
          "data": {
            "image/png": "[encoded data removed]",
            "text/plain": [
              "<Figure size 432x288 with 1 Axes>"
            ]
          },
          "metadata": {
            "needs_background": "light"
          }
        },
        {
          "output_type": "display_data",
          "data": {
            "image/png": "[encoded data removed]",
            "text/plain": [
              "<Figure size 432x288 with 1 Axes>"
            ]
          },
          "metadata": {
            "needs_background": "light"
          }
        },
        {
          "output_type": "display_data",
          "data": {
            "image/png": "[encoded data removed]",
            "text/plain": [
              "<Figure size 432x288 with 1 Axes>"
            ]
          },
          "metadata": {
            "needs_background": "light"
          }
        },
        {
          "output_type": "display_data",
          "data": {
            "image/png": "[encoded data removed]",
            "text/plain": [
              "<Figure size 432x288 with 1 Axes>"
            ]
          },
          "metadata": {
            "needs_background": "light"
          }
        },
        {
          "output_type": "display_data",
          "data": {
            "image/png": "[encoded data removed]",
            "text/plain": [
              "<Figure size 432x288 with 1 Axes>"
            ]
          },
          "metadata": {
            "needs_background": "light"
          }
        },
        {
          "output_type": "display_data",
          "data": {
            "image/png": "[encoded data removed]",
            "text/plain": [
              "<Figure size 432x288 with 1 Axes>"
            ]
          },
          "metadata": {
            "needs_background": "light"
          }
        },
        {
          "output_type": "display_data",
          "data": {
            "image/png": "[encoded data removed]",
            "text/plain": [
              "<Figure size 432x288 with 1 Axes>"
            ]
          },
          "metadata": {
            "needs_background": "light"
          }
        }
      ],
      "source": [
        "visualize_model(model_conv)"
      ]
    },
    {
      "cell_type": "code",
      "source": [
        "torch.save(model_conv.state_dict(), 'model_weights.pth')"
      ],
      "metadata": {
        "id": "bRE4s6tDNUXx"
      },
      "execution_count": 61,
      "outputs": []
    }
  ],
  "metadata": {
    "colab": {
      "name": "classifier-transfert learning.ipynb",
      "provenance": [],
      "collapsed_sections": [],
      "include_colab_link": true
    },
    "kernelspec": {
      "display_name": "Python 3 (ipykernel)",
      "language": "python",
      "name": "python3"
    },
    "language_info": {
      "codemirror_mode": {
        "name": "ipython",
        "version": 3
      },
      "file_extension": ".py",
      "mimetype": "text/x-python",
      "name": "python",
      "nbconvert_exporter": "python",
      "pygments_lexer": "ipython3",
      "version": "3.9.7"
    },
    "accelerator": "GPU"
  },
  "nbformat": 4,
  "nbformat_minor": 0
}